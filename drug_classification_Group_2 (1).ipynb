{
 "cells": [
  {
   "cell_type": "markdown",
   "metadata": {},
   "source": [
    "Import Data"
   ]
  },
  {
   "cell_type": "code",
   "execution_count": 38,
   "metadata": {},
   "outputs": [],
   "source": [
    "import pandas as pd"
   ]
  },
  {
   "cell_type": "code",
   "execution_count": 39,
   "metadata": {},
   "outputs": [],
   "source": [
    "drug_class=pd.read_csv(\"C:/Users/Akello_Mercy/Documents/Tech4Dev Classes/New Group 2/Datasets/Drugs Data set 3.csv\")"
   ]
  },
  {
   "cell_type": "code",
   "execution_count": 40,
   "metadata": {},
   "outputs": [
    {
     "data": {
      "text/html": [
       "<div>\n",
       "<style scoped>\n",
       "    .dataframe tbody tr th:only-of-type {\n",
       "        vertical-align: middle;\n",
       "    }\n",
       "\n",
       "    .dataframe tbody tr th {\n",
       "        vertical-align: top;\n",
       "    }\n",
       "\n",
       "    .dataframe thead th {\n",
       "        text-align: right;\n",
       "    }\n",
       "</style>\n",
       "<table border=\"1\" class=\"dataframe\">\n",
       "  <thead>\n",
       "    <tr style=\"text-align: right;\">\n",
       "      <th></th>\n",
       "      <th>Age</th>\n",
       "      <th>Sex</th>\n",
       "      <th>BP</th>\n",
       "      <th>Cholesterol</th>\n",
       "      <th>Na_to_K</th>\n",
       "      <th>Drug</th>\n",
       "      <th>Smoking Status</th>\n",
       "      <th>Genetic_Diseases</th>\n",
       "      <th>Income Level</th>\n",
       "      <th>Sleep Hours</th>\n",
       "      <th>BMI</th>\n",
       "      <th>Alcohol Consumption</th>\n",
       "      <th>Stress Levl</th>\n",
       "      <th>Diet</th>\n",
       "      <th>Nationality</th>\n",
       "    </tr>\n",
       "  </thead>\n",
       "  <tbody>\n",
       "    <tr>\n",
       "      <th>0</th>\n",
       "      <td>23</td>\n",
       "      <td>F</td>\n",
       "      <td>HIGH</td>\n",
       "      <td>HIGH</td>\n",
       "      <td>25.355</td>\n",
       "      <td>DrugY</td>\n",
       "      <td>current</td>\n",
       "      <td>Arthritis</td>\n",
       "      <td>$261,404.00</td>\n",
       "      <td>6</td>\n",
       "      <td>27.900</td>\n",
       "      <td>Non Consumers</td>\n",
       "      <td>9</td>\n",
       "      <td>Average</td>\n",
       "      <td>South Africa</td>\n",
       "    </tr>\n",
       "    <tr>\n",
       "      <th>1</th>\n",
       "      <td>47</td>\n",
       "      <td>M</td>\n",
       "      <td>LOW</td>\n",
       "      <td>HIGH</td>\n",
       "      <td>13.093</td>\n",
       "      <td>drugC</td>\n",
       "      <td>never</td>\n",
       "      <td>Asthma</td>\n",
       "      <td>$285,768.00</td>\n",
       "      <td>7</td>\n",
       "      <td>33.770</td>\n",
       "      <td>Consumers</td>\n",
       "      <td>1</td>\n",
       "      <td>Unhealthy</td>\n",
       "      <td>Nigeria</td>\n",
       "    </tr>\n",
       "    <tr>\n",
       "      <th>2</th>\n",
       "      <td>47</td>\n",
       "      <td>M</td>\n",
       "      <td>LOW</td>\n",
       "      <td>HIGH</td>\n",
       "      <td>10.114</td>\n",
       "      <td>drugC</td>\n",
       "      <td>current</td>\n",
       "      <td>Asthma</td>\n",
       "      <td>$235,282.00</td>\n",
       "      <td>4</td>\n",
       "      <td>33.000</td>\n",
       "      <td>Non Consumers</td>\n",
       "      <td>9</td>\n",
       "      <td>Healthy</td>\n",
       "      <td>Ivory Coast</td>\n",
       "    </tr>\n",
       "    <tr>\n",
       "      <th>3</th>\n",
       "      <td>28</td>\n",
       "      <td>F</td>\n",
       "      <td>NORMAL</td>\n",
       "      <td>HIGH</td>\n",
       "      <td>7.798</td>\n",
       "      <td>drugX</td>\n",
       "      <td>current</td>\n",
       "      <td>Cancer</td>\n",
       "      <td>$125,640.00</td>\n",
       "      <td>4</td>\n",
       "      <td>22.705</td>\n",
       "      <td>Consumers</td>\n",
       "      <td>9</td>\n",
       "      <td>Average</td>\n",
       "      <td>South Africa</td>\n",
       "    </tr>\n",
       "    <tr>\n",
       "      <th>4</th>\n",
       "      <td>61</td>\n",
       "      <td>F</td>\n",
       "      <td>LOW</td>\n",
       "      <td>HIGH</td>\n",
       "      <td>18.043</td>\n",
       "      <td>DrugY</td>\n",
       "      <td>never</td>\n",
       "      <td>Arthritis</td>\n",
       "      <td>$160,555.00</td>\n",
       "      <td>5</td>\n",
       "      <td>28.880</td>\n",
       "      <td>Non Consumers</td>\n",
       "      <td>6</td>\n",
       "      <td>Unhealthy</td>\n",
       "      <td>Ivory Coast</td>\n",
       "    </tr>\n",
       "  </tbody>\n",
       "</table>\n",
       "</div>"
      ],
      "text/plain": [
       "   Age Sex      BP Cholesterol  Na_to_K   Drug Smoking Status  \\\n",
       "0   23   F    HIGH        HIGH   25.355  DrugY        current   \n",
       "1   47   M     LOW        HIGH   13.093  drugC          never   \n",
       "2   47   M     LOW        HIGH   10.114  drugC        current   \n",
       "3   28   F  NORMAL        HIGH    7.798  drugX        current   \n",
       "4   61   F     LOW        HIGH   18.043  DrugY          never   \n",
       "\n",
       "  Genetic_Diseases  Income Level  Sleep Hours     BMI Alcohol Consumption  \\\n",
       "0        Arthritis  $261,404.00             6  27.900       Non Consumers   \n",
       "1           Asthma  $285,768.00             7  33.770           Consumers   \n",
       "2           Asthma  $235,282.00             4  33.000       Non Consumers   \n",
       "3           Cancer  $125,640.00             4  22.705           Consumers   \n",
       "4        Arthritis  $160,555.00             5  28.880       Non Consumers   \n",
       "\n",
       "   Stress Levl       Diet   Nationality  \n",
       "0            9    Average  South Africa  \n",
       "1            1  Unhealthy       Nigeria  \n",
       "2            9    Healthy   Ivory Coast  \n",
       "3            9    Average  South Africa  \n",
       "4            6  Unhealthy   Ivory Coast  "
      ]
     },
     "execution_count": 40,
     "metadata": {},
     "output_type": "execute_result"
    }
   ],
   "source": [
    "drug_class.head()"
   ]
  },
  {
   "cell_type": "code",
   "execution_count": 41,
   "metadata": {},
   "outputs": [
    {
     "name": "stdout",
     "output_type": "stream",
     "text": [
      "<class 'pandas.core.frame.DataFrame'>\n",
      "RangeIndex: 200 entries, 0 to 199\n",
      "Data columns (total 15 columns):\n",
      " #   Column               Non-Null Count  Dtype  \n",
      "---  ------               --------------  -----  \n",
      " 0   Age                  200 non-null    int64  \n",
      " 1   Sex                  200 non-null    object \n",
      " 2   BP                   200 non-null    object \n",
      " 3   Cholesterol          200 non-null    object \n",
      " 4   Na_to_K              200 non-null    float64\n",
      " 5   Drug                 200 non-null    object \n",
      " 6   Smoking Status       200 non-null    object \n",
      " 7   Genetic_Diseases     200 non-null    object \n",
      " 8   Income Level         200 non-null    object \n",
      " 9   Sleep Hours          200 non-null    int64  \n",
      " 10  BMI                  200 non-null    float64\n",
      " 11  Alcohol Consumption  200 non-null    object \n",
      " 12  Stress Levl          200 non-null    int64  \n",
      " 13  Diet                 200 non-null    object \n",
      " 14  Nationality          200 non-null    object \n",
      "dtypes: float64(2), int64(3), object(10)\n",
      "memory usage: 23.6+ KB\n"
     ]
    }
   ],
   "source": [
    "drug_class.info()"
   ]
  },
  {
   "cell_type": "markdown",
   "metadata": {},
   "source": [
    "Data Cleaning"
   ]
  },
  {
   "cell_type": "markdown",
   "metadata": {},
   "source": [
    "Check for duplicate values"
   ]
  },
  {
   "cell_type": "code",
   "execution_count": 42,
   "metadata": {},
   "outputs": [
    {
     "data": {
      "text/plain": [
       "0"
      ]
     },
     "execution_count": 42,
     "metadata": {},
     "output_type": "execute_result"
    }
   ],
   "source": [
    "drug_class.duplicated().sum()"
   ]
  },
  {
   "cell_type": "markdown",
   "metadata": {},
   "source": [
    "rename columns"
   ]
  },
  {
   "cell_type": "code",
   "execution_count": 43,
   "metadata": {},
   "outputs": [],
   "source": [
    "drug_class.rename(columns={\"BP\":\"Blood_Pressure\",\"Na_to_K\":\"Sodium_to_Potassium_ratio\",\n",
    "\"Smoking Status\":\"Smoking_Status\",\"Income Level\":\"Income_Level\",\n",
    "\"Sleep Hours\":\"Sleeptime_in_Hours\",\"BMI\":\"Body_Mass_Index\",\n",
    "\"Alcohol Consumption\":\"Alcohol_Consumption\",\"Stress Levl\":\"Stress_Level\"}, inplace=True)"
   ]
  },
  {
   "cell_type": "code",
   "execution_count": 44,
   "metadata": {},
   "outputs": [
    {
     "name": "stdout",
     "output_type": "stream",
     "text": [
      "<class 'pandas.core.frame.DataFrame'>\n",
      "RangeIndex: 200 entries, 0 to 199\n",
      "Data columns (total 15 columns):\n",
      " #   Column                     Non-Null Count  Dtype  \n",
      "---  ------                     --------------  -----  \n",
      " 0   Age                        200 non-null    int64  \n",
      " 1   Sex                        200 non-null    object \n",
      " 2   Blood_Pressure             200 non-null    object \n",
      " 3   Cholesterol                200 non-null    object \n",
      " 4   Sodium_to_Potassium_ratio  200 non-null    float64\n",
      " 5   Drug                       200 non-null    object \n",
      " 6   Smoking_Status             200 non-null    object \n",
      " 7   Genetic_Diseases           200 non-null    object \n",
      " 8   Income_Level               200 non-null    object \n",
      " 9   Sleeptime_in_Hours         200 non-null    int64  \n",
      " 10  Body_Mass_Index            200 non-null    float64\n",
      " 11  Alcohol_Consumption        200 non-null    object \n",
      " 12  Stress_Level               200 non-null    int64  \n",
      " 13  Diet                       200 non-null    object \n",
      " 14  Nationality                200 non-null    object \n",
      "dtypes: float64(2), int64(3), object(10)\n",
      "memory usage: 23.6+ KB\n"
     ]
    }
   ],
   "source": [
    "drug_class.info()"
   ]
  },
  {
   "cell_type": "markdown",
   "metadata": {},
   "source": [
    "convert income_level to integer"
   ]
  },
  {
   "cell_type": "code",
   "execution_count": 45,
   "metadata": {},
   "outputs": [
    {
     "data": {
      "text/plain": [
       "Income_Level\n",
       "$261,404.00     1\n",
       "$167,843.00     1\n",
       "$72,564.00      1\n",
       "$175,465.00     1\n",
       "$285,832.00     1\n",
       "               ..\n",
       "$258,104.00     1\n",
       "$52,552.00      1\n",
       "$128,868.00     1\n",
       "$259,754.00     1\n",
       "$137,445.00     1\n",
       "Name: count, Length: 200, dtype: int64"
      ]
     },
     "execution_count": 45,
     "metadata": {},
     "output_type": "execute_result"
    }
   ],
   "source": [
    "drug_class[\"Income_Level\"].value_counts()"
   ]
  },
  {
   "cell_type": "code",
   "execution_count": 46,
   "metadata": {},
   "outputs": [
    {
     "name": "stdout",
     "output_type": "stream",
     "text": [
      "<class 'pandas.core.frame.DataFrame'>\n",
      "RangeIndex: 200 entries, 0 to 199\n",
      "Data columns (total 15 columns):\n",
      " #   Column                     Non-Null Count  Dtype  \n",
      "---  ------                     --------------  -----  \n",
      " 0   Age                        200 non-null    int64  \n",
      " 1   Sex                        200 non-null    object \n",
      " 2   Blood_Pressure             200 non-null    object \n",
      " 3   Cholesterol                200 non-null    object \n",
      " 4   Sodium_to_Potassium_ratio  200 non-null    float64\n",
      " 5   Drug                       200 non-null    object \n",
      " 6   Smoking_Status             200 non-null    object \n",
      " 7   Genetic_Diseases           200 non-null    object \n",
      " 8   Income_Level               200 non-null    object \n",
      " 9   Sleeptime_in_Hours         200 non-null    int64  \n",
      " 10  Body_Mass_Index            200 non-null    float64\n",
      " 11  Alcohol_Consumption        200 non-null    object \n",
      " 12  Stress_Level               200 non-null    int64  \n",
      " 13  Diet                       200 non-null    object \n",
      " 14  Nationality                200 non-null    object \n",
      "dtypes: float64(2), int64(3), object(10)\n",
      "memory usage: 23.6+ KB\n"
     ]
    }
   ],
   "source": [
    "drug_class.info()"
   ]
  },
  {
   "cell_type": "markdown",
   "metadata": {},
   "source": [
    "replace $ with blank"
   ]
  },
  {
   "cell_type": "code",
   "execution_count": 47,
   "metadata": {},
   "outputs": [],
   "source": [
    "drug_class[\"Income_Level\"]=drug_class[\"Income_Level\"].str.replace(\"$\",\"\")"
   ]
  },
  {
   "cell_type": "code",
   "execution_count": 48,
   "metadata": {},
   "outputs": [
    {
     "data": {
      "text/html": [
       "<div>\n",
       "<style scoped>\n",
       "    .dataframe tbody tr th:only-of-type {\n",
       "        vertical-align: middle;\n",
       "    }\n",
       "\n",
       "    .dataframe tbody tr th {\n",
       "        vertical-align: top;\n",
       "    }\n",
       "\n",
       "    .dataframe thead th {\n",
       "        text-align: right;\n",
       "    }\n",
       "</style>\n",
       "<table border=\"1\" class=\"dataframe\">\n",
       "  <thead>\n",
       "    <tr style=\"text-align: right;\">\n",
       "      <th></th>\n",
       "      <th>Age</th>\n",
       "      <th>Sex</th>\n",
       "      <th>Blood_Pressure</th>\n",
       "      <th>Cholesterol</th>\n",
       "      <th>Sodium_to_Potassium_ratio</th>\n",
       "      <th>Drug</th>\n",
       "      <th>Smoking_Status</th>\n",
       "      <th>Genetic_Diseases</th>\n",
       "      <th>Income_Level</th>\n",
       "      <th>Sleeptime_in_Hours</th>\n",
       "      <th>Body_Mass_Index</th>\n",
       "      <th>Alcohol_Consumption</th>\n",
       "      <th>Stress_Level</th>\n",
       "      <th>Diet</th>\n",
       "      <th>Nationality</th>\n",
       "    </tr>\n",
       "  </thead>\n",
       "  <tbody>\n",
       "    <tr>\n",
       "      <th>0</th>\n",
       "      <td>23</td>\n",
       "      <td>F</td>\n",
       "      <td>HIGH</td>\n",
       "      <td>HIGH</td>\n",
       "      <td>25.355</td>\n",
       "      <td>DrugY</td>\n",
       "      <td>current</td>\n",
       "      <td>Arthritis</td>\n",
       "      <td>261,404.00</td>\n",
       "      <td>6</td>\n",
       "      <td>27.9</td>\n",
       "      <td>Non Consumers</td>\n",
       "      <td>9</td>\n",
       "      <td>Average</td>\n",
       "      <td>South Africa</td>\n",
       "    </tr>\n",
       "  </tbody>\n",
       "</table>\n",
       "</div>"
      ],
      "text/plain": [
       "   Age Sex Blood_Pressure Cholesterol  Sodium_to_Potassium_ratio   Drug  \\\n",
       "0   23   F           HIGH        HIGH                     25.355  DrugY   \n",
       "\n",
       "  Smoking_Status Genetic_Diseases Income_Level  Sleeptime_in_Hours  \\\n",
       "0        current        Arthritis  261,404.00                    6   \n",
       "\n",
       "   Body_Mass_Index Alcohol_Consumption  Stress_Level     Diet   Nationality  \n",
       "0             27.9       Non Consumers             9  Average  South Africa  "
      ]
     },
     "execution_count": 48,
     "metadata": {},
     "output_type": "execute_result"
    }
   ],
   "source": [
    "drug_class.head(1)"
   ]
  },
  {
   "cell_type": "markdown",
   "metadata": {},
   "source": [
    "remove unneccessary space from column"
   ]
  },
  {
   "cell_type": "code",
   "execution_count": 49,
   "metadata": {},
   "outputs": [],
   "source": [
    "drug_class[\"Income_Level\"]=drug_class[\"Income_Level\"].str.strip()"
   ]
  },
  {
   "cell_type": "code",
   "execution_count": null,
   "metadata": {},
   "outputs": [],
   "source": [
    "#drug_class = drug_class['Income_Level'].astype(float)"
   ]
  },
  {
   "cell_type": "code",
   "execution_count": null,
   "metadata": {},
   "outputs": [],
   "source": [
    "#drug_class[\"Income_Level\"]=drug_class[\"Income_Level\"].astype(str).astype(int)"
   ]
  },
  {
   "cell_type": "code",
   "execution_count": 34,
   "metadata": {},
   "outputs": [],
   "source": [
    "drug_class['Income_Level'] = pd.to_numeric(drug_class['Income_Level'])"
   ]
  },
  {
   "cell_type": "code",
   "execution_count": 35,
   "metadata": {},
   "outputs": [
    {
     "name": "stdout",
     "output_type": "stream",
     "text": [
      "<class 'pandas.core.frame.DataFrame'>\n",
      "RangeIndex: 200 entries, 0 to 199\n",
      "Data columns (total 15 columns):\n",
      " #   Column                     Non-Null Count  Dtype  \n",
      "---  ------                     --------------  -----  \n",
      " 0   Age                        200 non-null    int64  \n",
      " 1   Sex                        200 non-null    object \n",
      " 2   Blood_Pressure             200 non-null    object \n",
      " 3   Cholesterol                200 non-null    object \n",
      " 4   Sodium_to_Potassium_ratio  200 non-null    float64\n",
      " 5   Drug                       200 non-null    object \n",
      " 6   Smoking_Status             200 non-null    object \n",
      " 7   Genetic_Diseases           200 non-null    object \n",
      " 8   Income_Level               0 non-null      float64\n",
      " 9   Sleeptime_in_Hours         200 non-null    int64  \n",
      " 10  Body_Mass_Index            200 non-null    float64\n",
      " 11  Alcohol_Consumption        200 non-null    object \n",
      " 12  Stress_Level               200 non-null    int64  \n",
      " 13  Diet                       200 non-null    object \n",
      " 14  Nationality                200 non-null    object \n",
      "dtypes: float64(3), int64(3), object(9)\n",
      "memory usage: 23.6+ KB\n"
     ]
    }
   ],
   "source": [
    "drug_class.info()"
   ]
  },
  {
   "cell_type": "code",
   "execution_count": 36,
   "metadata": {},
   "outputs": [
    {
     "data": {
      "text/html": [
       "<div>\n",
       "<style scoped>\n",
       "    .dataframe tbody tr th:only-of-type {\n",
       "        vertical-align: middle;\n",
       "    }\n",
       "\n",
       "    .dataframe tbody tr th {\n",
       "        vertical-align: top;\n",
       "    }\n",
       "\n",
       "    .dataframe thead th {\n",
       "        text-align: right;\n",
       "    }\n",
       "</style>\n",
       "<table border=\"1\" class=\"dataframe\">\n",
       "  <thead>\n",
       "    <tr style=\"text-align: right;\">\n",
       "      <th></th>\n",
       "      <th>Age</th>\n",
       "      <th>Sex</th>\n",
       "      <th>Blood_Pressure</th>\n",
       "      <th>Cholesterol</th>\n",
       "      <th>Sodium_to_Potassium_ratio</th>\n",
       "      <th>Drug</th>\n",
       "      <th>Smoking_Status</th>\n",
       "      <th>Genetic_Diseases</th>\n",
       "      <th>Income_Level</th>\n",
       "      <th>Sleeptime_in_Hours</th>\n",
       "      <th>Body_Mass_Index</th>\n",
       "      <th>Alcohol_Consumption</th>\n",
       "      <th>Stress_Level</th>\n",
       "      <th>Diet</th>\n",
       "      <th>Nationality</th>\n",
       "    </tr>\n",
       "  </thead>\n",
       "  <tbody>\n",
       "    <tr>\n",
       "      <th>0</th>\n",
       "      <td>23</td>\n",
       "      <td>F</td>\n",
       "      <td>HIGH</td>\n",
       "      <td>HIGH</td>\n",
       "      <td>25.355</td>\n",
       "      <td>DrugY</td>\n",
       "      <td>current</td>\n",
       "      <td>Arthritis</td>\n",
       "      <td>NaN</td>\n",
       "      <td>6</td>\n",
       "      <td>27.90</td>\n",
       "      <td>Non Consumers</td>\n",
       "      <td>9</td>\n",
       "      <td>Average</td>\n",
       "      <td>South Africa</td>\n",
       "    </tr>\n",
       "    <tr>\n",
       "      <th>1</th>\n",
       "      <td>47</td>\n",
       "      <td>M</td>\n",
       "      <td>LOW</td>\n",
       "      <td>HIGH</td>\n",
       "      <td>13.093</td>\n",
       "      <td>drugC</td>\n",
       "      <td>never</td>\n",
       "      <td>Asthma</td>\n",
       "      <td>NaN</td>\n",
       "      <td>7</td>\n",
       "      <td>33.77</td>\n",
       "      <td>Consumers</td>\n",
       "      <td>1</td>\n",
       "      <td>Unhealthy</td>\n",
       "      <td>Nigeria</td>\n",
       "    </tr>\n",
       "  </tbody>\n",
       "</table>\n",
       "</div>"
      ],
      "text/plain": [
       "   Age Sex Blood_Pressure Cholesterol  Sodium_to_Potassium_ratio   Drug  \\\n",
       "0   23   F           HIGH        HIGH                     25.355  DrugY   \n",
       "1   47   M            LOW        HIGH                     13.093  drugC   \n",
       "\n",
       "  Smoking_Status Genetic_Diseases  Income_Level  Sleeptime_in_Hours  \\\n",
       "0        current        Arthritis           NaN                   6   \n",
       "1          never           Asthma           NaN                   7   \n",
       "\n",
       "   Body_Mass_Index Alcohol_Consumption  Stress_Level       Diet   Nationality  \n",
       "0            27.90       Non Consumers             9    Average  South Africa  \n",
       "1            33.77           Consumers             1  Unhealthy       Nigeria  "
      ]
     },
     "execution_count": 36,
     "metadata": {},
     "output_type": "execute_result"
    }
   ],
   "source": [
    "drug_class.head(2)"
   ]
  },
  {
   "cell_type": "code",
   "execution_count": null,
   "metadata": {},
   "outputs": [],
   "source": [
    "#drug_class = drug_class['Income_Level'].astype(int)"
   ]
  }
 ],
 "metadata": {
  "kernelspec": {
   "display_name": "Python 3",
   "language": "python",
   "name": "python3"
  },
  "language_info": {
   "codemirror_mode": {
    "name": "ipython",
    "version": 3
   },
   "file_extension": ".py",
   "mimetype": "text/x-python",
   "name": "python",
   "nbconvert_exporter": "python",
   "pygments_lexer": "ipython3",
   "version": "3.12.1"
  }
 },
 "nbformat": 4,
 "nbformat_minor": 2
}
